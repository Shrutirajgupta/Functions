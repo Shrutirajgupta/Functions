{
  "nbformat": 4,
  "nbformat_minor": 0,
  "metadata": {
    "colab": {
      "provenance": []
    },
    "kernelspec": {
      "name": "python3",
      "display_name": "Python 3"
    },
    "language_info": {
      "name": "python"
    }
  },
  "cells": [
    {
      "cell_type": "markdown",
      "source": [
        "#Theory **Questions**"
      ],
      "metadata": {
        "id": "mseDzTkacKnR"
      }
    },
    {
      "cell_type": "markdown",
      "source": [
        "1. What is the difference between a function and a method in Python?\n",
        "\n",
        "-> A function is a standalone block of reusable code, defined using the def keyword.\n",
        "\n",
        "-> A method is a function that is associated with an object and is called on it. It operates on the object it is bound to.\n",
        "\n",
        "\n",
        ". Example:\n",
        "\n",
        " >>Function\n",
        "def greet():\n",
        "    return \"Hello\"\n",
        "\n",
        " >>Method\n",
        "class Person:\n",
        "    def greet(self):\n",
        "        return \"Hello\"\n",
        "\n",
        "\n",
        "2. Explain the concept of function arguments and parameters in Python.\n",
        "\n",
        "-> Parameters: Variables defined in the function definition (e.g., x in def func(x):).\n",
        "\n",
        "Arguments: Values passed to a function when called (e.g., func(10)).\n",
        "\n",
        ". Example:\n",
        "\n",
        "   def add(a, b):  # 'a' and 'b' are parameters\n",
        "    return a + b\n",
        "  result = add(2, 3)  # '2' and '3' are arguments\n",
        "\n",
        "\n",
        "3. What are the different ways to define and call a function in Python?\n",
        "\n",
        "-> Ways to define: Using def, lambda functions.\n",
        "\n",
        "-> Ways to call: Directly (function_name()), through higher-order functions (map, filter).\n",
        "\n",
        "\n",
        ". Example:\n",
        "\n",
        ">>Defining with def\n",
        "    def greet():\n",
        "    return \"Hello\"\n",
        "       print(greet())  # Calling\n",
        "\n",
        ">> Using lambda\n",
        "    greet = lambda: \"Hello\"\n",
        "      print(greet())\n",
        "\n",
        "\n",
        "4. What is the purpose of the return statement in a Python function?\n",
        "-> The return statement is used to send a value back to the caller of the\n",
        "   function.\n",
        "\n",
        ". Example:\n",
        "\n",
        "    def square(x):\n",
        "    return x * x\n",
        "       print(square(4))  # Output: 16\n",
        "\n",
        "5. What are iterators in Python and how do they differ from iterables?\n",
        "\n",
        "-> Iterables: Objects you can loop through, e.g., lists, tuples.\n",
        "\n",
        "-> Iterators: Objects that produce elements one at a time using the _next_() method.\n",
        "\n",
        "\n",
        ". Example:\n",
        "\n",
        "   my_list = [1, 2, 3]  # Iterable\n",
        "   my_iter = iter(my_list)  # Iterator\n",
        "      print(next(my_iter))  # Output: 1\n",
        "\n",
        "\n",
        "6. Explain the concept of generators in Python and how they are defined.\n",
        "-> Generators are special iterators created using functions with the yield\n",
        "   keyword, producing a sequence of values lazily.\n",
        "\n",
        ". Example:\n",
        "\n",
        "   def gen():\n",
        "    yield 1\n",
        "    yield 2\n",
        "   for i in gen():\n",
        "    print(i)\n",
        "\n",
        "\n",
        "7. What are the advantages of using generators over regular functions?\n",
        "\n",
        "-> Memory-efficient (do not store the entire dataset in memory).\n",
        "\n",
        "-> Lazy evaluation (produce items only when needed).\n",
        "\n",
        "\n",
        "8. What is a lambda function in Python and when is it typically used?\n",
        "-> A lambda function is an anonymous, inline function defined using the lambda\n",
        "   keyword. It's used for short, throwaway functions.\n",
        "\n",
        ".Example:\n",
        "\n",
        "  square = lambda x: x * x\n",
        "    print(square(5))  # Output: 25\n",
        "\n",
        "\n",
        "9. Explain the purpose and usage of the map() function in Python.\n",
        "-> The map() function applies a function to all items in an iterable.\n",
        "\n",
        ".Example:\n",
        "\n",
        " nums = [1, 2, 3]\n",
        " squares = map(lambda x: x * x, nums)\n",
        "    print(list(squares))  # Output: [1, 4, 9]\n",
        "\n",
        "\n",
        "10. What is the difference between map(), reduce(), and filter() functions in Python?\n",
        "\n",
        "-> map(): Applies a function to each item.\n",
        "-> filter(): Filters items based on a condition.\n",
        "-> educe(): Combines items into a single value using a function.\n",
        "\n",
        "\n",
        ".Example:\n",
        "\n",
        "from functools import reduce\n",
        "nums = [1, 2, 3, 4]\n",
        "  print(list(map(lambda x: x * 2, nums)))  # Output: [2, 4, 6, 8]\n",
        "  print(list(filter(lambda x: x % 2 == 0, nums)))  # Output: [2, 4]\n",
        "  print(reduce(lambda x, y: x + y, nums))  # Output: 10\n",
        "\n",
        "11. Sum operation using reduce:\n",
        "-> Sum = 47 + 11 + 42 + 13 = 113. Add logic in Python using reduce.\n",
        "\n",
        "\n",
        "\n",
        "\n",
        "\n",
        "\n"
      ],
      "metadata": {
        "id": "2ZV534h_ca2S"
      }
    },
    {
      "cell_type": "markdown",
      "source": [
        "#Practical **Questions**"
      ],
      "metadata": {
        "id": "09ItwPVJfNLh"
      }
    },
    {
      "cell_type": "markdown",
      "source": [
        "1. Write a Python function that takes a list of numbers as input and returns the sum of all even numbers in\n",
        "the list."
      ],
      "metadata": {
        "id": "cMAA2SiOfT0j"
      }
    },
    {
      "cell_type": "code",
      "execution_count": 1,
      "metadata": {
        "colab": {
          "base_uri": "https://localhost:8080/"
        },
        "id": "iJm3qdejcI4u",
        "outputId": "18e38e03-112b-4661-a622-e0984ac2a5f3"
      },
      "outputs": [
        {
          "output_type": "stream",
          "name": "stdout",
          "text": [
            "6\n"
          ]
        }
      ],
      "source": [
        "def sum_of_evens(nums):\n",
        "    return sum(x for x in nums if x % 2 == 0)\n",
        "print(sum_of_evens([1, 2, 3, 4]))\n",
        "\n"
      ]
    },
    {
      "cell_type": "markdown",
      "source": [
        "2. Create a Python function that accepts a string and returns the reverse of that string."
      ],
      "metadata": {
        "id": "Px_Yn2Mffk-B"
      }
    },
    {
      "cell_type": "code",
      "source": [
        "def reverse_string(s):\n",
        "    return s[::-1]\n",
        "print(reverse_string(\"hello\"))"
      ],
      "metadata": {
        "colab": {
          "base_uri": "https://localhost:8080/"
        },
        "id": "ucAua8wHfhP3",
        "outputId": "6d9b54b2-222d-463d-c77a-c4e7263ec200"
      },
      "execution_count": 2,
      "outputs": [
        {
          "output_type": "stream",
          "name": "stdout",
          "text": [
            "olleh\n"
          ]
        }
      ]
    },
    {
      "cell_type": "markdown",
      "source": [
        "3. Implement a Python function that takes a list of integers and returns a new list containing the squares of\n",
        "each number."
      ],
      "metadata": {
        "id": "tFSgpqfmf2_u"
      }
    },
    {
      "cell_type": "code",
      "source": [
        "def squares(nums):\n",
        "    return [x * x for x in nums]\n",
        "print(squares([1, 2, 3]))"
      ],
      "metadata": {
        "colab": {
          "base_uri": "https://localhost:8080/"
        },
        "id": "rYLly4xnf2GB",
        "outputId": "5090ab94-ce80-4ea2-de02-6bcec84fb905"
      },
      "execution_count": 3,
      "outputs": [
        {
          "output_type": "stream",
          "name": "stdout",
          "text": [
            "[1, 4, 9]\n"
          ]
        }
      ]
    },
    {
      "cell_type": "markdown",
      "source": [
        "4. Write a Python function that checks if a given number is prime or not from 1 to 200."
      ],
      "metadata": {
        "id": "NnN4NmIAgCq1"
      }
    },
    {
      "cell_type": "code",
      "source": [
        "def is_prime(n):\n",
        "    if n <= 1:\n",
        "        return False\n",
        "    for i in range(2, int(n**0.5) + 1):\n",
        "        if n % i == 0:\n",
        "            return False\n",
        "    return True\n",
        "\n",
        "primes = [x for x in range(1, 201) if is_prime(x)]\n",
        "print(primes)\n"
      ],
      "metadata": {
        "colab": {
          "base_uri": "https://localhost:8080/"
        },
        "id": "fCaDhyBwgBtn",
        "outputId": "0a2b4f22-0f64-415a-b889-d64e54646be0"
      },
      "execution_count": 4,
      "outputs": [
        {
          "output_type": "stream",
          "name": "stdout",
          "text": [
            "[2, 3, 5, 7, 11, 13, 17, 19, 23, 29, 31, 37, 41, 43, 47, 53, 59, 61, 67, 71, 73, 79, 83, 89, 97, 101, 103, 107, 109, 113, 127, 131, 137, 139, 149, 151, 157, 163, 167, 173, 179, 181, 191, 193, 197, 199]\n"
          ]
        }
      ]
    },
    {
      "cell_type": "markdown",
      "source": [
        "5. Create an iterator class in Python that generates the Fibonacci sequence up to a specified number of\n",
        "terms."
      ],
      "metadata": {
        "id": "UCKj2X2wgN_k"
      }
    },
    {
      "cell_type": "code",
      "source": [
        "class Fibonacci:\n",
        "    def _init_(self, terms):\n",
        "        self.terms = terms\n",
        "        self.a, self.b = 0, 1\n",
        "\n",
        "    def _iter_(self):\n",
        "        return self\n",
        "\n",
        "    def _next_(self):\n",
        "        if self.terms <= 0:\n",
        "            raise StopIteration\n",
        "        self.terms -= 1\n",
        "        self.a, self.b = self.b, self.a + self.b\n",
        "        return self.a\n"
      ],
      "metadata": {
        "id": "E0VM-kpzgMRo"
      },
      "execution_count": 5,
      "outputs": []
    },
    {
      "cell_type": "markdown",
      "source": [
        "6. Write a generator function in Python that yields the powers of 2 up to a given exponent."
      ],
      "metadata": {
        "id": "_Xd5RJUJgY96"
      }
    },
    {
      "cell_type": "code",
      "source": [
        "def powers_of_2(exponent):\n",
        "    for i in range(exponent + 1):\n",
        "        yield 2 ** i\n"
      ],
      "metadata": {
        "id": "IW0K0rihgYUg"
      },
      "execution_count": 7,
      "outputs": []
    },
    {
      "cell_type": "markdown",
      "source": [
        "7. Implement a generator function that reads a file line by line and yields each line as a string."
      ],
      "metadata": {
        "id": "5aQlRSqkgi_6"
      }
    },
    {
      "cell_type": "code",
      "source": [
        "def read_lines(filename):\n",
        "    with open(filename, 'r') as file:\n",
        "        for line in file:\n",
        "            yield line.strip()\n",
        "\n"
      ],
      "metadata": {
        "id": "BZw-PEjfgiNg"
      },
      "execution_count": 8,
      "outputs": []
    },
    {
      "cell_type": "markdown",
      "source": [
        "8. Use a lambda function in Python to sort a list of tuples based on the second element of each tuple."
      ],
      "metadata": {
        "id": "k8VbWuYogxvy"
      }
    },
    {
      "cell_type": "code",
      "source": [
        "tuples = [(1, 3), (2, 2), (3, 1)]\n",
        "print(sorted(tuples, key=lambda x: x[1]))\n",
        "\n"
      ],
      "metadata": {
        "colab": {
          "base_uri": "https://localhost:8080/"
        },
        "id": "ozNP_YFygwzZ",
        "outputId": "2dadacef-8be1-46bf-a9bf-98f8b3120b5d"
      },
      "execution_count": 9,
      "outputs": [
        {
          "output_type": "stream",
          "name": "stdout",
          "text": [
            "[(3, 1), (2, 2), (1, 3)]\n"
          ]
        }
      ]
    },
    {
      "cell_type": "markdown",
      "source": [
        "9. Write a Python program that uses `map()` to convert a list of temperatures from Celsius to Fahrenheit."
      ],
      "metadata": {
        "id": "C4j8FWSthAVB"
      }
    },
    {
      "cell_type": "code",
      "source": [
        "temps = [0, 100, 40]\n",
        "fahrenheit = map(lambda c: c * 9/5 + 32, temps)\n",
        "print(list(fahrenheit))\n",
        "\n"
      ],
      "metadata": {
        "colab": {
          "base_uri": "https://localhost:8080/"
        },
        "id": "qypfJ5pCg_Fm",
        "outputId": "6deacfaf-1520-4160-b053-a5280faaddf0"
      },
      "execution_count": 10,
      "outputs": [
        {
          "output_type": "stream",
          "name": "stdout",
          "text": [
            "[32.0, 212.0, 104.0]\n"
          ]
        }
      ]
    },
    {
      "cell_type": "markdown",
      "source": [
        "10. Create a Python program that uses `filter()` to remove all the vowels from a given string"
      ],
      "metadata": {
        "id": "9SBLkLcJhNAV"
      }
    },
    {
      "cell_type": "code",
      "source": [
        "def remove_vowels(s):\n",
        "    return ''.join(filter(lambda x: x.lower() not in 'aeiou', s))\n",
        "print(remove_vowels(\"hello world\"))\n",
        "\n"
      ],
      "metadata": {
        "colab": {
          "base_uri": "https://localhost:8080/"
        },
        "id": "mRsQKOmShMJQ",
        "outputId": "18eaf9a0-abe0-478c-a704-9ee4f8e25e64"
      },
      "execution_count": 11,
      "outputs": [
        {
          "output_type": "stream",
          "name": "stdout",
          "text": [
            "hll wrld\n"
          ]
        }
      ]
    },
    {
      "cell_type": "markdown",
      "source": [
        "11) Imagine an accounting routine used in a book shop. It works on a list with sublists, which look like this:\n",
        "\n",
        "Order Number      Book Title and Author               Quantity  Price per item\n",
        "34587              Learning Python,Mark Lutz               4        40.95\n",
        "98762              Programming Python,Mark Lutz            5        56.80\n",
        "77226              Head First Python, Paul Barry           3        32.95\n",
        "88112              Einfuhrung in Python 3, Bernd Klein     3        24.99\n",
        "\n",
        "Write a Python program, which returns a list with 2-tuples. Each tuple consists of the order number and the\n",
        "product of the price per item and the quantity. The product should be increased by 10,- € if the value of the\n",
        "order is smaller than 100,00 €.\n",
        "\n",
        "Write a Python program using lambda and map."
      ],
      "metadata": {
        "id": "aNzimvcLhZUf"
      }
    },
    {
      "cell_type": "code",
      "source": [
        "orders = [[34587, 4.50, 10], [98762, 2.50, 20]]\n",
        "result = list(map(lambda x: (x[0], x[1] * x[2] + (10 if x[1] * x[2] < 100 else 0)), orders))\n",
        "print(result)\n",
        "\n"
      ],
      "metadata": {
        "colab": {
          "base_uri": "https://localhost:8080/"
        },
        "id": "FRBSWqgphYNK",
        "outputId": "61be9627-6c23-42c5-f2d1-f10ac590c0e2"
      },
      "execution_count": 12,
      "outputs": [
        {
          "output_type": "stream",
          "name": "stdout",
          "text": [
            "[(34587, 55.0), (98762, 60.0)]\n"
          ]
        }
      ]
    },
    {
      "cell_type": "code",
      "source": [],
      "metadata": {
        "id": "XrI8qKARjG_a"
      },
      "execution_count": null,
      "outputs": []
    }
  ]
}